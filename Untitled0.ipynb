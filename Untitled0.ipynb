{
  "nbformat": 4,
  "nbformat_minor": 0,
  "metadata": {
    "colab": {
      "provenance": []
    },
    "kernelspec": {
      "name": "python3",
      "display_name": "Python 3"
    },
    "language_info": {
      "name": "python"
    }
  },
  "cells": [
    {
      "cell_type": "code",
      "execution_count": 1,
      "metadata": {
        "colab": {
          "base_uri": "https://localhost:8080/"
        },
        "id": "mOVHacngv4hd",
        "outputId": "a145f4f0-5439-4e0e-8bcf-b411fc2df67f"
      },
      "outputs": [
        {
          "output_type": "stream",
          "name": "stdout",
          "text": [
            "Hello World, my name is Nadeem\n"
          ]
        }
      ],
      "source": [
        "#Task 1: Printing Hello World program\n",
        "x = \"Hello World, my name is Nadeem\"\n",
        "print(x)"
      ]
    },
    {
      "cell_type": "code",
      "source": [
        "#Task 2: Sum of two numbers\n",
        "m = 87\n",
        "n = 98\n",
        "l = m + n\n",
        "print(\"The sum of these two numbers is:\",l)"
      ],
      "metadata": {
        "colab": {
          "base_uri": "https://localhost:8080/"
        },
        "id": "JOrttJycxSOD",
        "outputId": "53dde2f8-47ff-4edb-9aa7-69e12035f391"
      },
      "execution_count": 10,
      "outputs": [
        {
          "output_type": "stream",
          "name": "stdout",
          "text": [
            "The sum of these two numbers is: 185\n"
          ]
        }
      ]
    },
    {
      "cell_type": "code",
      "source": [
        "#Sum of two numbers using input from user\n",
        "m = int(input(\"Enter a number:\"))\n",
        "n = int(input(\"Enter another number:\"))\n",
        "sum = m + n\n",
        "print(\"The sum of numbers is:\", sum)"
      ],
      "metadata": {
        "colab": {
          "base_uri": "https://localhost:8080/"
        },
        "id": "nGooF_otxsVk",
        "outputId": "1a5668b3-6ac1-4a8f-b5b9-c5769c7704d2"
      },
      "execution_count": 9,
      "outputs": [
        {
          "output_type": "stream",
          "name": "stdout",
          "text": [
            "Enter a number:879\n",
            "Enter another number:576\n",
            "The sum of numbers is: 1455\n"
          ]
        }
      ]
    },
    {
      "cell_type": "code",
      "source": [
        "#Task 3: Product of two numbers\n",
        "x = 65\n",
        "y = 98\n",
        "z = x * y\n",
        "print(\"The product of numbers is\", z)"
      ],
      "metadata": {
        "colab": {
          "base_uri": "https://localhost:8080/"
        },
        "id": "hhnIdjiDzkKR",
        "outputId": "3e3e06a6-289d-4b27-e6e2-aca54cecb29c"
      },
      "execution_count": 11,
      "outputs": [
        {
          "output_type": "stream",
          "name": "stdout",
          "text": [
            "The product of numbers is 6370\n"
          ]
        }
      ]
    },
    {
      "cell_type": "code",
      "source": [],
      "metadata": {
        "id": "hMdb6I0S0xHe"
      },
      "execution_count": null,
      "outputs": []
    }
  ]
}